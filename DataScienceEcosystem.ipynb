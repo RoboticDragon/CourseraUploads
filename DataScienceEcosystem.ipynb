{
 "cells": [
  {
   "cell_type": "markdown",
   "id": "de5b4050-89cf-469e-ac5a-d4cc391608d0",
   "metadata": {},
   "source": [
    "# Data Science Tools and Ecosystem"
   ]
  },
  {
   "cell_type": "markdown",
   "id": "4eb198d4-3411-4630-8212-5a60c683739a",
   "metadata": {},
   "source": [
    "### In this notebook, Data Science Tools and Ecosystem are summarized."
   ]
  },
  {
   "cell_type": "markdown",
   "id": "4ee5c288-db01-493a-9585-fe9140cf5fb1",
   "metadata": {},
   "source": [
    "### Some of the popular languages that Data Scientists use are:\n",
    "1. Python\n",
    "2. Java\n",
    "3. R"
   ]
  },
  {
   "cell_type": "markdown",
   "id": "0fe2de25-3818-461c-b97c-a4200bfb980e",
   "metadata": {},
   "source": [
    "### Some of the commonly used libraries used by Data Scientists include:\n",
    "1. Pandas\n",
    "2. NumPy\n",
    "3. dplyr"
   ]
  },
  {
   "cell_type": "markdown",
   "id": "c839ed15-d1f1-48b0-94cd-a4d579ac0e08",
   "metadata": {},
   "source": [
    "### Data Science Tools\n",
    "1. Jupyter\n",
    "2. GitHub\n",
    "3. Anaconda"
   ]
  },
  {
   "cell_type": "markdown",
   "id": "382d15d1-5470-4970-896a-b22c3f8ee5df",
   "metadata": {},
   "source": [
    "### Below are a few examples of evaluating arithmetic expressions in Python\n",
    "+ 3 + 5 \n",
    "+ 4 + 9 \n",
    "+ 5 - 2"
   ]
  },
  {
   "cell_type": "code",
   "execution_count": 1,
   "id": "b4c62e7d-1566-4b9e-bf42-99d46ad14fa3",
   "metadata": {},
   "outputs": [
    {
     "data": {
      "text/plain": [
       "17"
      ]
     },
     "execution_count": 1,
     "metadata": {},
     "output_type": "execute_result"
    }
   ],
   "source": [
    "# This a simple arithmetic expression to mutiply then add integers\n",
    "(3*4)+5"
   ]
  },
  {
   "cell_type": "code",
   "execution_count": 2,
   "id": "0c718751-4d47-47f5-a0bd-1ffdca6085cf",
   "metadata": {},
   "outputs": [
    {
     "data": {
      "text/plain": [
       "3.3333333333333335"
      ]
     },
     "execution_count": 2,
     "metadata": {},
     "output_type": "execute_result"
    }
   ],
   "source": [
    "# This will convert 200 minutes to hours by diving by 60\n",
    "200 / 60"
   ]
  },
  {
   "cell_type": "markdown",
   "id": "815de7f0-bd66-43c4-a042-9818aa5821fc",
   "metadata": {},
   "source": [
    "**Objectives:**\n",
    "+ Some of the popular languages that Data Scientists use\n",
    "+ Data Science Tools\n",
    "+ Evaluating arithmetic expressions in Python"
   ]
  },
  {
   "cell_type": "markdown",
   "id": "bb485a8d-99ba-4d08-910b-6d2ff7a00106",
   "metadata": {},
   "source": [
    "## Author\n",
    "Hilary Lutz"
   ]
  },
  {
   "cell_type": "code",
   "execution_count": null,
   "id": "d69fc417-a74a-45f2-bc71-16e0c5eff17e",
   "metadata": {},
   "outputs": [],
   "source": []
  }
 ],
 "metadata": {
  "kernelspec": {
   "display_name": "Python 3 (ipykernel)",
   "language": "python",
   "name": "python3"
  },
  "language_info": {
   "codemirror_mode": {
    "name": "ipython",
    "version": 3
   },
   "file_extension": ".py",
   "mimetype": "text/x-python",
   "name": "python",
   "nbconvert_exporter": "python",
   "pygments_lexer": "ipython3",
   "version": "3.12.4"
  }
 },
 "nbformat": 4,
 "nbformat_minor": 5
}
